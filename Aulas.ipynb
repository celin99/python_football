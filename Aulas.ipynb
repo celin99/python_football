{
 "cells": [
  {
   "cell_type": "markdown",
   "metadata": {},
   "source": [
    "### Aula 01 - Syntax\n"
   ]
  },
  {
   "cell_type": "code",
   "execution_count": 2,
   "metadata": {},
   "outputs": [
    {
     "ename": "ModuleNotFoundError",
     "evalue": "No module named 'pandas'",
     "output_type": "error",
     "traceback": [
      "\u001b[0;31m---------------------------------------------------------------------------\u001b[0m",
      "\u001b[0;31mModuleNotFoundError\u001b[0m                       Traceback (most recent call last)",
      "Cell \u001b[0;32mIn[2], line 2\u001b[0m\n\u001b[1;32m      1\u001b[0m \u001b[38;5;66;03m#pd = pandas\u001b[39;00m\n\u001b[0;32m----> 2\u001b[0m \u001b[38;5;28;01mimport\u001b[39;00m \u001b[38;5;21;01mpandas\u001b[39;00m \u001b[38;5;28;01mas\u001b[39;00m \u001b[38;5;21;01mpd\u001b[39;00m  \n\u001b[1;32m      4\u001b[0m \u001b[38;5;66;03m#Importando somente o módulo Pitch da biblioteca mplsoccer\u001b[39;00m\n\u001b[1;32m      5\u001b[0m \u001b[38;5;28;01mfrom\u001b[39;00m \u001b[38;5;21;01mmplsoccer\u001b[39;00m \u001b[38;5;28;01mimport\u001b[39;00m Pitch\n",
      "\u001b[0;31mModuleNotFoundError\u001b[0m: No module named 'pandas'"
     ]
    }
   ],
   "source": [
    "#pd = pandas\n",
    "import pandas as pd  \n",
    "\n",
    "#Importando somente o módulo Pitch da biblioteca mplsoccer\n",
    "from mplsoccer import Pitch\n",
    "from mplsoccer import Pitch, VerticalPitch\n",
    "\n",
    "#Importando tudo da biblioteca mplsoccer \n",
    "from mplsoccer import *\n",
    "\n",
    "#A diferença entre 'import <lib>' e 'from <lib> import *' é que na segunda opção não precisamos chamar a lib a todo momento"
   ]
  },
  {
   "cell_type": "markdown",
   "metadata": {},
   "source": [
    "### Aula 02 - Variables"
   ]
  },
  {
   "cell_type": "code",
   "execution_count": 7,
   "metadata": {},
   "outputs": [
    {
     "name": "stdout",
     "output_type": "stream",
     "text": [
      "Messi 10\n"
     ]
    }
   ],
   "source": [
    "x = 'Messi'\n",
    "y = 10\n",
    "print(x,y)"
   ]
  },
  {
   "cell_type": "code",
   "execution_count": 9,
   "metadata": {},
   "outputs": [
    {
     "name": "stdout",
     "output_type": "stream",
     "text": [
      "3\n"
     ]
    },
    {
     "data": {
      "text/plain": [
       "str"
      ]
     },
     "execution_count": 9,
     "metadata": {},
     "output_type": "execute_result"
    }
   ],
   "source": [
    "x = str(3)\n",
    "print(x)\n",
    "type(x)"
   ]
  },
  {
   "cell_type": "code",
   "execution_count": 16,
   "metadata": {},
   "outputs": [
    {
     "name": "stdout",
     "output_type": "stream",
     "text": [
      "Messi and Ronaldo\n"
     ]
    }
   ],
   "source": [
    "a = 'Messi'\n",
    "A = 'Ronaldo'\n",
    "print(a +' and '+ A)"
   ]
  },
  {
   "cell_type": "code",
   "execution_count": 22,
   "metadata": {},
   "outputs": [
    {
     "data": {
      "text/plain": [
       "str"
      ]
     },
     "execution_count": 22,
     "metadata": {},
     "output_type": "execute_result"
    }
   ],
   "source": [
    "x ='10'\n",
    "type(x)"
   ]
  },
  {
   "cell_type": "code",
   "execution_count": 23,
   "metadata": {},
   "outputs": [
    {
     "data": {
      "text/plain": [
       "10.0"
      ]
     },
     "execution_count": 23,
     "metadata": {},
     "output_type": "execute_result"
    }
   ],
   "source": [
    "float(x)"
   ]
  },
  {
   "cell_type": "code",
   "execution_count": 25,
   "metadata": {},
   "outputs": [
    {
     "data": {
      "text/plain": [
       "bool"
      ]
     },
     "execution_count": 25,
     "metadata": {},
     "output_type": "execute_result"
    }
   ],
   "source": [
    "x = bool(x)\n",
    "type(x)"
   ]
  },
  {
   "cell_type": "code",
   "execution_count": 26,
   "metadata": {},
   "outputs": [
    {
     "name": "stdout",
     "output_type": "stream",
     "text": [
      "True\n"
     ]
    }
   ],
   "source": [
    "print(x)"
   ]
  },
  {
   "cell_type": "code",
   "execution_count": 28,
   "metadata": {},
   "outputs": [
    {
     "data": {
      "text/plain": [
       "b'\\x00\\x00\\x00\\x00\\x00\\x00\\x00\\x00\\x00\\x00'"
      ]
     },
     "execution_count": 28,
     "metadata": {},
     "output_type": "execute_result"
    }
   ],
   "source": [
    "x = 10\n",
    "bytes(x)"
   ]
  },
  {
   "cell_type": "code",
   "execution_count": 30,
   "metadata": {},
   "outputs": [
    {
     "name": "stdout",
     "output_type": "stream",
     "text": [
      "{'num': 5, 'name': 'Messi'}\n",
      "<class 'dict'>\n"
     ]
    }
   ],
   "source": [
    "x = int(5)\n",
    "\n",
    "y = dict(num=x, name='Messi')\n",
    "print(y)\n",
    "print(type(y))"
   ]
  },
  {
   "cell_type": "markdown",
   "metadata": {},
   "source": [
    "## Aula 03 - Bools, Numbers, Strings, Lists, Tuples, Dicts"
   ]
  },
  {
   "cell_type": "code",
   "execution_count": 31,
   "metadata": {},
   "outputs": [
    {
     "name": "stdout",
     "output_type": "stream",
     "text": [
      "Brazil Number one\n"
     ]
    }
   ],
   "source": [
    "x = 'Brazil Number one'\n",
    "\n",
    "print(x)"
   ]
  },
  {
   "cell_type": "code",
   "execution_count": 37,
   "metadata": {},
   "outputs": [
    {
     "name": "stdout",
     "output_type": "stream",
     "text": [
      "\n",
      "Desde 2002 o Brasil é o maior\n",
      "ganhador de copas do mundo \n",
      "da história\n",
      "\n"
     ]
    }
   ],
   "source": [
    "x = '''\n",
    "Desde 2002 o Brasil é o maior\n",
    "ganhador de copas do mundo \n",
    "da história\n",
    "'''\n",
    "print(x)"
   ]
  },
  {
   "cell_type": "markdown",
   "metadata": {},
   "source": [
    "STR manipulation"
   ]
  },
  {
   "cell_type": "code",
   "execution_count": 38,
   "metadata": {},
   "outputs": [],
   "source": [
    "x = 'Brazil Number One'"
   ]
  },
  {
   "cell_type": "code",
   "execution_count": 43,
   "metadata": {},
   "outputs": [
    {
     "data": {
      "text/plain": [
       "'Brazi'"
      ]
     },
     "execution_count": 43,
     "metadata": {},
     "output_type": "execute_result"
    }
   ],
   "source": [
    "x[0:5]"
   ]
  },
  {
   "cell_type": "code",
   "execution_count": 44,
   "metadata": {},
   "outputs": [
    {
     "data": {
      "text/plain": [
       "17"
      ]
     },
     "execution_count": 44,
     "metadata": {},
     "output_type": "execute_result"
    }
   ],
   "source": [
    "len(x)"
   ]
  },
  {
   "cell_type": "code",
   "execution_count": 45,
   "metadata": {},
   "outputs": [
    {
     "name": "stdout",
     "output_type": "stream",
     "text": [
      "True\n"
     ]
    }
   ],
   "source": [
    "x = 'Messi scored a goal'\n",
    "print('Messi' in x)"
   ]
  },
  {
   "cell_type": "code",
   "execution_count": 49,
   "metadata": {},
   "outputs": [
    {
     "name": "stdout",
     "output_type": "stream",
     "text": [
      "Hello My name is Marcelo\n"
     ]
    }
   ],
   "source": [
    "x = 'Hello'\n",
    "y = 'My name is Marcelo'\n",
    "sentence = x + ' ' + y \n",
    "print(sentence)"
   ]
  },
  {
   "cell_type": "code",
   "execution_count": 50,
   "metadata": {},
   "outputs": [
    {
     "data": {
      "text/plain": [
       "['', ' My name is Marcelo']"
      ]
     },
     "execution_count": 50,
     "metadata": {},
     "output_type": "execute_result"
    }
   ],
   "source": [
    "txt = 'Hello My name is Marcelo'\n",
    "txt.split('Hello')"
   ]
  },
  {
   "cell_type": "code",
   "execution_count": 51,
   "metadata": {},
   "outputs": [
    {
     "data": {
      "text/plain": [
       "'Hello My name is Messi'"
      ]
     },
     "execution_count": 51,
     "metadata": {},
     "output_type": "execute_result"
    }
   ],
   "source": [
    "txt.replace('Marcelo', 'Messi')"
   ]
  },
  {
   "cell_type": "code",
   "execution_count": 54,
   "metadata": {},
   "outputs": [
    {
     "name": "stdout",
     "output_type": "stream",
     "text": [
      "My name is Marcelo\n"
     ]
    }
   ],
   "source": [
    "name = 'Marcelo'\n",
    "x = f'My name is {name}'\n",
    "print(x)"
   ]
  },
  {
   "cell_type": "markdown",
   "metadata": {},
   "source": [
    "Numbers\n"
   ]
  },
  {
   "cell_type": "code",
   "execution_count": 55,
   "metadata": {},
   "outputs": [
    {
     "data": {
      "text/plain": [
       "int"
      ]
     },
     "execution_count": 55,
     "metadata": {},
     "output_type": "execute_result"
    }
   ],
   "source": [
    "x = 100\n",
    "type(x)"
   ]
  },
  {
   "cell_type": "code",
   "execution_count": 56,
   "metadata": {},
   "outputs": [
    {
     "data": {
      "text/plain": [
       "float"
      ]
     },
     "execution_count": 56,
     "metadata": {},
     "output_type": "execute_result"
    }
   ],
   "source": [
    "x = 100.25\n",
    "type(x)"
   ]
  },
  {
   "cell_type": "code",
   "execution_count": 57,
   "metadata": {},
   "outputs": [
    {
     "data": {
      "text/plain": [
       "complex"
      ]
     },
     "execution_count": 57,
     "metadata": {},
     "output_type": "execute_result"
    }
   ],
   "source": [
    "x = 100j\n",
    "type(x)"
   ]
  },
  {
   "cell_type": "code",
   "execution_count": 58,
   "metadata": {},
   "outputs": [
    {
     "data": {
      "text/plain": [
       "100.0"
      ]
     },
     "execution_count": 58,
     "metadata": {},
     "output_type": "execute_result"
    }
   ],
   "source": [
    "x = 100\n",
    "float(x)"
   ]
  },
  {
   "cell_type": "code",
   "execution_count": 59,
   "metadata": {},
   "outputs": [
    {
     "data": {
      "text/plain": [
       "100"
      ]
     },
     "execution_count": 59,
     "metadata": {},
     "output_type": "execute_result"
    }
   ],
   "source": [
    "x = 100.5\n",
    "int(x)"
   ]
  },
  {
   "cell_type": "code",
   "execution_count": 61,
   "metadata": {},
   "outputs": [
    {
     "name": "stdout",
     "output_type": "stream",
     "text": [
      "101\n"
     ]
    }
   ],
   "source": [
    "# Arredondando o float para um número inteiro \n",
    "x = 100.55\n",
    "x = round(x)\n",
    "x = int(x)\n",
    "print(x)"
   ]
  },
  {
   "cell_type": "code",
   "execution_count": 62,
   "metadata": {},
   "outputs": [
    {
     "name": "stdout",
     "output_type": "stream",
     "text": [
      "100\n"
     ]
    }
   ],
   "source": [
    "x = 100.45\n",
    "x = round(x)\n",
    "x = int(x)\n",
    "print(x)"
   ]
  },
  {
   "cell_type": "markdown",
   "metadata": {},
   "source": [
    "Boolean\n"
   ]
  },
  {
   "cell_type": "code",
   "execution_count": 63,
   "metadata": {},
   "outputs": [
    {
     "name": "stdout",
     "output_type": "stream",
     "text": [
      "False\n"
     ]
    }
   ],
   "source": [
    "print(75 > 75)"
   ]
  },
  {
   "cell_type": "code",
   "execution_count": 64,
   "metadata": {},
   "outputs": [
    {
     "data": {
      "text/plain": [
       "True"
      ]
     },
     "execution_count": 64,
     "metadata": {},
     "output_type": "execute_result"
    }
   ],
   "source": [
    "bool('Messi')"
   ]
  },
  {
   "cell_type": "code",
   "execution_count": 65,
   "metadata": {},
   "outputs": [
    {
     "data": {
      "text/plain": [
       "False"
      ]
     },
     "execution_count": 65,
     "metadata": {},
     "output_type": "execute_result"
    }
   ],
   "source": [
    "#No binário, '0' representa falso e '1' representa verdadeiro\n",
    "bool(0)"
   ]
  },
  {
   "cell_type": "code",
   "execution_count": 66,
   "metadata": {},
   "outputs": [
    {
     "data": {
      "text/plain": [
       "False"
      ]
     },
     "execution_count": 66,
     "metadata": {},
     "output_type": "execute_result"
    }
   ],
   "source": [
    "bool('')"
   ]
  },
  {
   "cell_type": "markdown",
   "metadata": {},
   "source": [
    "Lists"
   ]
  },
  {
   "cell_type": "code",
   "execution_count": 70,
   "metadata": {},
   "outputs": [
    {
     "name": "stdout",
     "output_type": "stream",
     "text": [
      "['apple', 'banana', 'watermelon', 'orange', 4, 500]\n"
     ]
    }
   ],
   "source": [
    "x = ['apple', 'banana', 'watermelon', 'orange', 4, 100 * 5]\n",
    "print(x)"
   ]
  },
  {
   "cell_type": "code",
   "execution_count": 71,
   "metadata": {},
   "outputs": [
    {
     "data": {
      "text/plain": [
       "6"
      ]
     },
     "execution_count": 71,
     "metadata": {},
     "output_type": "execute_result"
    }
   ],
   "source": [
    "len(x)"
   ]
  },
  {
   "cell_type": "code",
   "execution_count": 75,
   "metadata": {},
   "outputs": [
    {
     "name": "stdout",
     "output_type": "stream",
     "text": [
      "7\n"
     ]
    }
   ],
   "source": [
    "x = [0, 1, 2, 3, 4, 5, 6, 7]\n",
    "print(x[-1])"
   ]
  },
  {
   "cell_type": "code",
   "execution_count": 76,
   "metadata": {},
   "outputs": [
    {
     "data": {
      "text/plain": [
       "[3, 4, 5, 6, 7]"
      ]
     },
     "execution_count": 76,
     "metadata": {},
     "output_type": "execute_result"
    }
   ],
   "source": [
    "x = [0, 1, 2, 3, 4, 5, 6, 7]\n",
    "x[3:]"
   ]
  },
  {
   "cell_type": "code",
   "execution_count": 77,
   "metadata": {},
   "outputs": [
    {
     "name": "stdout",
     "output_type": "stream",
     "text": [
      "False\n"
     ]
    }
   ],
   "source": [
    "print('hello' in x)"
   ]
  },
  {
   "cell_type": "code",
   "execution_count": 78,
   "metadata": {},
   "outputs": [
    {
     "name": "stdout",
     "output_type": "stream",
     "text": [
      "True\n"
     ]
    }
   ],
   "source": [
    "x = [0, 1, 2, 3, 4, 5, 6, 7, 'Hello']\n",
    "print('Hello' in x)"
   ]
  },
  {
   "cell_type": "code",
   "execution_count": 79,
   "metadata": {},
   "outputs": [
    {
     "name": "stdout",
     "output_type": "stream",
     "text": [
      "[0, 1, 2, 3, 4, 10, 6, 7]\n"
     ]
    }
   ],
   "source": [
    "x = [0, 1, 2, 3, 4, 5, 6, 7]\n",
    "x[5] = 10\n",
    "print(x)"
   ]
  },
  {
   "cell_type": "code",
   "execution_count": 80,
   "metadata": {},
   "outputs": [
    {
     "name": "stdout",
     "output_type": "stream",
     "text": [
      "[0, 1, 'Marcelo', 2, 3, 4, 10, 6, 7]\n"
     ]
    }
   ],
   "source": [
    "x.insert(2, 'Marcelo')\n",
    "print(x)"
   ]
  },
  {
   "cell_type": "code",
   "execution_count": 81,
   "metadata": {},
   "outputs": [
    {
     "name": "stdout",
     "output_type": "stream",
     "text": [
      "[0, 1, 2, 3, 4, 10, 6, 7]\n"
     ]
    }
   ],
   "source": [
    "x.remove('Marcelo')\n",
    "print(x)"
   ]
  },
  {
   "cell_type": "code",
   "execution_count": 82,
   "metadata": {},
   "outputs": [
    {
     "name": "stdout",
     "output_type": "stream",
     "text": [
      "1\n",
      "2\n",
      "3\n",
      "4\n",
      "5\n"
     ]
    }
   ],
   "source": [
    "for x in [1, 2, 3, 4, 5]:\n",
    "    print(x)"
   ]
  },
  {
   "cell_type": "code",
   "execution_count": 83,
   "metadata": {},
   "outputs": [
    {
     "name": "stdout",
     "output_type": "stream",
     "text": [
      "This is a apple\n",
      "This is a banana\n",
      "This is a pear\n"
     ]
    }
   ],
   "source": [
    "grocery_list = ['apple', 'banana', 'pear']\n",
    "\n",
    "for fruit in grocery_list:\n",
    "    print(f'This is a {fruit}')"
   ]
  },
  {
   "cell_type": "code",
   "execution_count": 84,
   "metadata": {},
   "outputs": [
    {
     "name": "stdout",
     "output_type": "stream",
     "text": [
      "This is a apple\n",
      "This is a banana\n",
      "This is a pear\n"
     ]
    },
    {
     "data": {
      "text/plain": [
       "[None, None, None]"
      ]
     },
     "execution_count": 84,
     "metadata": {},
     "output_type": "execute_result"
    }
   ],
   "source": [
    "[print(f'This is a {fruit}') for fruit in grocery_list]"
   ]
  },
  {
   "cell_type": "markdown",
   "metadata": {},
   "source": [
    "Tuples\n",
    "\n",
    "A diferença entre listas e tuplas, é que as tuplas são imutáveis, uma vez criadas não tem como modificá-las \n"
   ]
  },
  {
   "cell_type": "code",
   "execution_count": 85,
   "metadata": {},
   "outputs": [
    {
     "name": "stdout",
     "output_type": "stream",
     "text": [
      "(1, 2, 3, 4, 5)\n"
     ]
    }
   ],
   "source": [
    "x = (1, 2, 3, 4, 5)\n",
    "print(x)"
   ]
  },
  {
   "cell_type": "code",
   "execution_count": 86,
   "metadata": {},
   "outputs": [
    {
     "data": {
      "text/plain": [
       "tuple"
      ]
     },
     "execution_count": 86,
     "metadata": {},
     "output_type": "execute_result"
    }
   ],
   "source": [
    "type(x)"
   ]
  },
  {
   "cell_type": "code",
   "execution_count": 87,
   "metadata": {},
   "outputs": [
    {
     "data": {
      "text/plain": [
       "3"
      ]
     },
     "execution_count": 87,
     "metadata": {},
     "output_type": "execute_result"
    }
   ],
   "source": [
    "x[2]"
   ]
  },
  {
   "cell_type": "markdown",
   "metadata": {},
   "source": [
    "Dictionaries \n"
   ]
  },
  {
   "cell_type": "code",
   "execution_count": 89,
   "metadata": {},
   "outputs": [],
   "source": [
    "x = {\n",
    "    \"key1\": \"Value1\",\n",
    "    \"key2\": \"Value2\"\n",
    "}"
   ]
  },
  {
   "cell_type": "code",
   "execution_count": 90,
   "metadata": {},
   "outputs": [
    {
     "data": {
      "text/plain": [
       "'Value1'"
      ]
     },
     "execution_count": 90,
     "metadata": {},
     "output_type": "execute_result"
    }
   ],
   "source": [
    "x[\"key1\"]"
   ]
  },
  {
   "cell_type": "code",
   "execution_count": 91,
   "metadata": {},
   "outputs": [
    {
     "name": "stdout",
     "output_type": "stream",
     "text": [
      "Messi\n"
     ]
    }
   ],
   "source": [
    "x[\"key1\"] = 'Messi'\n",
    "print(x['key1'])"
   ]
  },
  {
   "cell_type": "code",
   "execution_count": 92,
   "metadata": {},
   "outputs": [
    {
     "data": {
      "text/plain": [
       "{'key1': 'Messi', 'key2': 'Value2'}"
      ]
     },
     "execution_count": 92,
     "metadata": {},
     "output_type": "execute_result"
    }
   ],
   "source": [
    "x"
   ]
  },
  {
   "cell_type": "code",
   "execution_count": 93,
   "metadata": {},
   "outputs": [],
   "source": [
    "x['World_cup'] = 2026"
   ]
  },
  {
   "cell_type": "code",
   "execution_count": 94,
   "metadata": {},
   "outputs": [
    {
     "data": {
      "text/plain": [
       "{'key1': 'Messi', 'key2': 'Value2', 'World_cup': 2026}"
      ]
     },
     "execution_count": 94,
     "metadata": {},
     "output_type": "execute_result"
    }
   ],
   "source": [
    "x"
   ]
  },
  {
   "cell_type": "code",
   "execution_count": 95,
   "metadata": {},
   "outputs": [
    {
     "name": "stdout",
     "output_type": "stream",
     "text": [
      "{'key1': 'Messi', 'key2': 'Value2', 'World_cup': 2026}\n"
     ]
    }
   ],
   "source": [
    "print(x)\n",
    "del x['key2']"
   ]
  },
  {
   "cell_type": "code",
   "execution_count": 96,
   "metadata": {},
   "outputs": [
    {
     "name": "stdout",
     "output_type": "stream",
     "text": [
      "{'key1': 'Messi', 'World_cup': 2026}\n"
     ]
    }
   ],
   "source": [
    "print(x)"
   ]
  },
  {
   "cell_type": "code",
   "execution_count": 97,
   "metadata": {},
   "outputs": [
    {
     "ename": "KeyError",
     "evalue": "'key2'",
     "output_type": "error",
     "traceback": [
      "\u001b[1;31m---------------------------------------------------------------------------\u001b[0m",
      "\u001b[1;31mKeyError\u001b[0m                                  Traceback (most recent call last)",
      "Cell \u001b[1;32mIn[97], line 1\u001b[0m\n\u001b[1;32m----> 1\u001b[0m x[\u001b[38;5;124m'\u001b[39m\u001b[38;5;124mkey2\u001b[39m\u001b[38;5;124m'\u001b[39m]\n",
      "\u001b[1;31mKeyError\u001b[0m: 'key2'"
     ]
    }
   ],
   "source": [
    "x['key2']"
   ]
  },
  {
   "cell_type": "markdown",
   "metadata": {},
   "source": [
    "## if or else"
   ]
  },
  {
   "cell_type": "code",
   "execution_count": 1,
   "metadata": {},
   "outputs": [
    {
     "name": "stdout",
     "output_type": "stream",
     "text": [
      "hello\n"
     ]
    }
   ],
   "source": [
    "a = 100\n",
    "b = 200\n",
    "\n",
    "if b > a:\n",
    "    print('hello')"
   ]
  },
  {
   "cell_type": "code",
   "execution_count": 3,
   "metadata": {},
   "outputs": [],
   "source": [
    "a = 100\n",
    "b = 200\n",
    "\n",
    "if a > b:\n",
    "    print('hello')"
   ]
  },
  {
   "cell_type": "code",
   "execution_count": 7,
   "metadata": {},
   "outputs": [
    {
     "name": "stdout",
     "output_type": "stream",
     "text": [
      "Bad luck\n"
     ]
    }
   ],
   "source": [
    "a = 100\n",
    "b = 50\n",
    "\n",
    "if b > a:\n",
    "    print('b greater than a')\n",
    "elif a == b:\n",
    "    print('they are the same')\n",
    "else:\n",
    "    print('Bad luck')"
   ]
  },
  {
   "cell_type": "code",
   "execution_count": 9,
   "metadata": {},
   "outputs": [
    {
     "name": "stdout",
     "output_type": "stream",
     "text": [
      "Hello\n"
     ]
    }
   ],
   "source": [
    " a = 10\n",
    "b = 5\n",
    "c = 100\n",
    "\n",
    "if a > b and c > a:\n",
    "   print('Hello')"
   ]
  },
  {
   "cell_type": "code",
   "execution_count": 10,
   "metadata": {},
   "outputs": [
    {
     "name": "stdout",
     "output_type": "stream",
     "text": [
      "One of this is True\n"
     ]
    }
   ],
   "source": [
    "if a > b or a > c:\n",
    "    print('One of this is True')"
   ]
  },
  {
   "cell_type": "code",
   "execution_count": 11,
   "metadata": {},
   "outputs": [
    {
     "name": "stdout",
     "output_type": "stream",
     "text": [
      "Greater than 5\n",
      "Not greater than 10000\n"
     ]
    }
   ],
   "source": [
    "x = 100 \n",
    "\n",
    "if x > 5:\n",
    "    print('Greater than 5')\n",
    "    if x > 10000:\n",
    "        print('Greater than 10000')\n",
    "    else:\n",
    "        print('Not greater than 10000')"
   ]
  },
  {
   "cell_type": "code",
   "execution_count": 13,
   "metadata": {},
   "outputs": [],
   "source": [
    "x = 10\n",
    "\n",
    "if x > 50000:\n",
    "    print('Hello')\n",
    "elif x > 5:\n",
    "    pass\n",
    "else:\n",
    "    print('Hello 2')"
   ]
  },
  {
   "cell_type": "code",
   "execution_count": 14,
   "metadata": {},
   "outputs": [
    {
     "name": "stdout",
     "output_type": "stream",
     "text": [
      "Hello 2\n"
     ]
    }
   ],
   "source": [
    "x = 4\n",
    "\n",
    "if x > 50000:\n",
    "    print('Hello')\n",
    "elif x > 5:\n",
    "    pass\n",
    "else:\n",
    "    print('Hello 2')"
   ]
  },
  {
   "cell_type": "markdown",
   "metadata": {},
   "source": [
    "## For and While Loops"
   ]
  },
  {
   "cell_type": "code",
   "execution_count": 1,
   "metadata": {},
   "outputs": [
    {
     "name": "stdout",
     "output_type": "stream",
     "text": [
      "Messi\n",
      "Ronaldo\n",
      "Neymar\n",
      "Hulk\n"
     ]
    }
   ],
   "source": [
    "players = ['Messi', 'Ronaldo', 'Neymar', 'Hulk']\n",
    "\n",
    "for player in players:\n",
    "    print(player)"
   ]
  },
  {
   "cell_type": "code",
   "execution_count": 3,
   "metadata": {},
   "outputs": [
    {
     "name": "stdout",
     "output_type": "stream",
     "text": [
      "0\n",
      "1\n",
      "2\n",
      "3\n",
      "4\n"
     ]
    }
   ],
   "source": [
    "for x in range(5):\n",
    "    print(x)"
   ]
  },
  {
   "cell_type": "code",
   "execution_count": 5,
   "metadata": {},
   "outputs": [
    {
     "name": "stdout",
     "output_type": "stream",
     "text": [
      "Messi Apple\n",
      "Messi Orange\n",
      "Messi Banana\n",
      "Ronaldo Apple\n",
      "Ronaldo Orange\n",
      "Ronaldo Banana\n",
      "Neymar Apple\n",
      "Neymar Orange\n",
      "Neymar Banana\n",
      "Hulk Apple\n",
      "Hulk Orange\n",
      "Hulk Banana\n"
     ]
    }
   ],
   "source": [
    "players = ['Messi', 'Ronaldo', 'Neymar', 'Hulk']\n",
    "fruits = ['Apple', 'Orange', 'Banana']\n",
    "\n",
    "for x in players:\n",
    "    for y in fruits:\n",
    "        print(x, y)"
   ]
  },
  {
   "cell_type": "code",
   "execution_count": 6,
   "metadata": {},
   "outputs": [
    {
     "name": "stdout",
     "output_type": "stream",
     "text": [
      "0\n",
      "1\n",
      "2\n",
      "3\n",
      "4\n",
      "5\n",
      "6\n",
      "7\n",
      "8\n",
      "9\n"
     ]
    }
   ],
   "source": [
    "i = 0\n",
    "\n",
    "while i < 10:\n",
    "    print(i)\n",
    "    i += 1"
   ]
  },
  {
   "cell_type": "code",
   "execution_count": 9,
   "metadata": {},
   "outputs": [
    {
     "name": "stdout",
     "output_type": "stream",
     "text": [
      "0\n",
      "1\n",
      "2\n",
      "4\n",
      "5\n",
      "6\n"
     ]
    }
   ],
   "source": [
    "numbers = range(10)\n",
    "\n",
    "for x in numbers:\n",
    "    if x == 7:\n",
    "        break\n",
    "    elif x == 3:\n",
    "        continue\n",
    "\n",
    "    print (x)"
   ]
  },
  {
   "cell_type": "markdown",
   "metadata": {},
   "source": [
    "## Functions \n"
   ]
  },
  {
   "cell_type": "code",
   "execution_count": 10,
   "metadata": {},
   "outputs": [
    {
     "name": "stdout",
     "output_type": "stream",
     "text": [
      "Hello\n",
      "Barcelona\n",
      "Real Madrid\n"
     ]
    }
   ],
   "source": [
    "print('Hello')\n",
    "print('Barcelona')\n",
    "print('Real Madrid')"
   ]
  },
  {
   "cell_type": "code",
   "execution_count": 11,
   "metadata": {},
   "outputs": [],
   "source": [
    "def sample_function():\n",
    "    print('Hello')\n",
    "    print('Barcelona')\n",
    "    print('Real Madrid')"
   ]
  },
  {
   "cell_type": "code",
   "execution_count": 12,
   "metadata": {},
   "outputs": [
    {
     "name": "stdout",
     "output_type": "stream",
     "text": [
      "Hello\n",
      "Barcelona\n",
      "Real Madrid\n"
     ]
    }
   ],
   "source": [
    "sample_function()"
   ]
  },
  {
   "cell_type": "code",
   "execution_count": 13,
   "metadata": {},
   "outputs": [],
   "source": [
    "def my_function(first_name):\n",
    "    print(f'Hello, my name is {first_name}')"
   ]
  },
  {
   "cell_type": "code",
   "execution_count": 16,
   "metadata": {},
   "outputs": [
    {
     "name": "stdout",
     "output_type": "stream",
     "text": [
      "Hello, my name is Marcelo\n",
      "Hello, my name is Hulk\n"
     ]
    }
   ],
   "source": [
    "my_function('Marcelo')\n",
    "my_function('Hulk')"
   ]
  },
  {
   "cell_type": "code",
   "execution_count": 17,
   "metadata": {},
   "outputs": [
    {
     "name": "stdout",
     "output_type": "stream",
     "text": [
      "Hello, my name is Givanildo\n"
     ]
    }
   ],
   "source": [
    "my_function(first_name='Givanildo')"
   ]
  },
  {
   "cell_type": "code",
   "execution_count": 18,
   "metadata": {},
   "outputs": [],
   "source": [
    "def my_function(first_name, last_name, team):\n",
    "    print(f'My name is {first_name} {last_name}')\n",
    "    print(f'I play for {team}') "
   ]
  },
  {
   "cell_type": "code",
   "execution_count": 19,
   "metadata": {},
   "outputs": [
    {
     "name": "stdout",
     "output_type": "stream",
     "text": [
      "My name is Gustavo Scarpa\n",
      "I play for Galo\n"
     ]
    }
   ],
   "source": [
    "my_function('Gustavo', 'Scarpa', 'Galo')"
   ]
  },
  {
   "cell_type": "code",
   "execution_count": 20,
   "metadata": {},
   "outputs": [],
   "source": [
    "def my_function(team='Manchester United'):\n",
    "    print(team)"
   ]
  },
  {
   "cell_type": "code",
   "execution_count": 22,
   "metadata": {},
   "outputs": [
    {
     "name": "stdout",
     "output_type": "stream",
     "text": [
      "Manchester United\n"
     ]
    }
   ],
   "source": [
    "my_function()"
   ]
  },
  {
   "cell_type": "code",
   "execution_count": 23,
   "metadata": {},
   "outputs": [
    {
     "name": "stdout",
     "output_type": "stream",
     "text": [
      "Galo\n"
     ]
    }
   ],
   "source": [
    "my_function('Galo')"
   ]
  },
  {
   "cell_type": "code",
   "execution_count": 24,
   "metadata": {},
   "outputs": [],
   "source": [
    "def my_function(first_name, last_name, team='Galo'):\n",
    "    print(f'My name is {first_name} {last_name}')\n",
    "    print(f'I play for {team}') "
   ]
  },
  {
   "cell_type": "code",
   "execution_count": 25,
   "metadata": {},
   "outputs": [
    {
     "name": "stdout",
     "output_type": "stream",
     "text": [
      "My name is Guilherme Arana\n",
      "I play for Galo\n"
     ]
    }
   ],
   "source": [
    "my_function('Guilherme', 'Arana')"
   ]
  },
  {
   "cell_type": "code",
   "execution_count": 31,
   "metadata": {},
   "outputs": [],
   "source": [
    "def my_function(x):\n",
    "    x = 10 * x / 3\n",
    "    return 100 * x"
   ]
  },
  {
   "cell_type": "code",
   "execution_count": 33,
   "metadata": {},
   "outputs": [
    {
     "data": {
      "text/plain": [
       "8333.333333333332"
      ]
     },
     "execution_count": 33,
     "metadata": {},
     "output_type": "execute_result"
    }
   ],
   "source": [
    "my_function(25)"
   ]
  },
  {
   "cell_type": "code",
   "execution_count": 34,
   "metadata": {},
   "outputs": [],
   "source": [
    "my_value = my_function(15)"
   ]
  },
  {
   "cell_type": "code",
   "execution_count": 35,
   "metadata": {},
   "outputs": [
    {
     "name": "stdout",
     "output_type": "stream",
     "text": [
      "5000.0\n"
     ]
    }
   ],
   "source": [
    "print(my_value)"
   ]
  },
  {
   "cell_type": "markdown",
   "metadata": {},
   "source": [
    "## Module 2: Metrics & Terminology"
   ]
  },
  {
   "cell_type": "markdown",
   "metadata": {},
   "source": [
    "Durante a carreira de análise de dados, iremos nos deparar com vários tipos de dados diferentes. No curso não será diferente, iremos trabalhar com estes tipos de dados:\n",
    "\n",
    "- Qualitative Data\n",
    "- Summary Data\n",
    "- Event Data\n",
    "- Tracking Data"
   ]
  },
  {
   "cell_type": "markdown",
   "metadata": {},
   "source": [
    "### Qualitative Data:\n",
    " \n",
    "Dados qualitativos são dados que representam informações e conceitos que não são representados por números. Em nosso curso seria basicamente datas, nomes de estádios, nome da liga, nome do time visitante/casa..."
   ]
  },
  {
   "cell_type": "markdown",
   "metadata": {},
   "source": [
    "### Summary Data:\n",
    "\n",
    "Dados resumidos significam registros e relatórios estatísticos derivados de dados sobre indivíduos. Em nosso curso seria basicamente quantos gols tal jogador marcou em determinadas partidas, ou na temporada, ou na carreira. É importante para acompanhar as variações dos dados.\n",
    "\n"
   ]
  },
  {
   "cell_type": "markdown",
   "metadata": {},
   "source": [
    "### Event Data:\n",
    "\n",
    "Logs of single events in a match that make up the summary statistics, passes, tackles, yellow cards, saves. All these event data give us a lot of information that we can combine these events together to make a flow of the match and understand what is happening trought a match. Usually the event data has a location value attach to it, example, where tha players are making passes, shots, tackles, etc.\n",
    "\n",
    "Registros de eventos únicos em uma partida que compõem o resumo das estatísticas, passes, desarmes, cartões amarelos, defesas. Todos esses dados de eventos nos fornecem muitas informações para que possamos combinar esses eventos para criar um fluxo da partida e entender o que está acontecendo durante a partida. Normalmente, os dados do evento possuem um valor de localização associado, por exemplo, onde os jogadores estão fazendo passes, chutes, tackles, etc.\n"
   ]
  },
  {
   "cell_type": "markdown",
   "metadata": {},
   "source": [
    "### Trecking Data:\n",
    "\n",
    "tracks the ball, players, referees, and will gathering millions of data points that can be used to understand the game better.\n",
    "\n",
    "Rastreia a bola, jogadores, árbitros e coleta milhões de pontos de dados que podem ser usados ​​para entender melhor o jogo\n",
    "\n"
   ]
  },
  {
   "cell_type": "markdown",
   "metadata": {},
   "source": [
    "___"
   ]
  },
  {
   "cell_type": "markdown",
   "metadata": {},
   "source": [
    "## Key Metrics\n"
   ]
  },
  {
   "cell_type": "markdown",
   "metadata": {},
   "source": [
    "À medida que a análise do futebol evolui, mais estatísticas serão usadas e mais métricas serão criadas, o que pode ser confuso e difícil de controlar.\n",
    "Existem diferentes estatísticas com as quais você provavelmente está familiarizado, como gols, assistências, tackles, defesas, etc.\n",
    "\n",
    "Mas e o PSxG? Ou se eu disser ameaça esperada, você sabe o que isso significa?\n",
    "Vejamos algumas dessas estatísticas principais usadas no futebol e que serão importantes para entender."
   ]
  },
  {
   "cell_type": "markdown",
   "metadata": {},
   "source": [
    "### Expected Goals (xG)\n",
    "\n",
    "“Imagine que cada vez que um jogador chuta para o gol, poderíamos prever a chance de ele marcar com base no local de onde foi feito, no tipo de assistência e em muitos outros fatores. É isso que o Expected Goals, ou xG, faz.\n",
    "\n",
    "Essa métrica recebe um valor de 0 a 1 e nos diz a probabilidade de um gol ser marcado.\n",
    "\n",
    "Se um valor de xG tiver uma métrica de 0,3, então assumimos que há 30% de chance de que esse gol seja marcado, dada a situação, jogador, equipe, etc.\n",
    "\n",
    "A métrica é calculada com modelagem preditiva para estimar essa probabilidade usando pontos de dados históricos de disparos semelhantes.\n",
    "\n",
    "A chave aqui é que entendemos que estamos calculando a qualidade das chances em vez da capacidade de finalização, e não estamos dizendo que se uma equipe tiver 2 xG deveria ter marcado 2 gols.\n",
    "\n",
    "Os gols esperados se tornaram uma das estatísticas avançadas mais populares para usar e até vimos as principais transmissões usá-las e os especialistas começarem a adotá-las, assim como elas se tornaram mais amplamente utilizadas.\n",
    "\n",
    "A partir de agora, os gols esperados também são a melhor métrica que temos para avaliar e prever o desempenho futuro da equipe e dos jogadores.\n",
    "\n",
    "Os gols esperados são mais úteis ao avaliar o desempenho durante um período de tempo, em vez de apenas um único chute ou partida. Embora possa ser conveniente ter, há tanta variação no futebol que até mesmo Messi ou Hueng Ming Son (dois jogadores que são conhecidos por superarem o número de gols esperados) perderão algumas chances realmente fáceis.\n",
    "\n",
    "https://statsbomb.com/soccer-metrics/expected-goals-xg-explained/"
   ]
  },
  {
   "cell_type": "markdown",
   "metadata": {},
   "source": [
    "### Expected Assists (xA) & Expected Assisted Goals (xAG)\n",
    "\n",
    "Assistências Esperadas, ou xA, são semelhantes a xG, mas para passes. O uso dessa métrica nos permite observar a capacidade de criação de jogo e, ao mesmo tempo, observar as contribuições diretas para os gols.\n",
    "\n",
    "Ele mede a probabilidade de um determinado passe se tornar uma assistência, considerando fatores como tipo de passe, localização final e xG do chute resultante.\n",
    "\n",
    "Se um passe tiver um xA de 0,3, significa que há 30% de chance de levar diretamente a um gol. Valores altos de xA mostram que jogadores ou equipes são bons em criar chances de gol. É como avaliar a qualidade das oportunidades criadas e não apenas a quantidade.\n",
    "\n",
    "As assistências esperadas irão olhar e valorizar todos os passes que levam a oportunidades de gol. A principal diferença entre Assistências Esperadas e Gols Assistidos Esperados é que o xAG considera apenas o passe que leva diretamente a um gol esperado.\n",
    "\n",
    "As assistências esperadas, assim como os gols esperados, devem ser analisadas ao longo de um período de tempo, em vez de apenas um único jogo ou passe, para avaliar verdadeiramente o desempenho.\n",
    "\n",
    "https://herfootballhub.com/data-metrics-explained-expected-assists/"
   ]
  },
  {
   "cell_type": "markdown",
   "metadata": {},
   "source": [
    "### Expect Threat (xT)\n",
    "\n",
    "A ameaça esperada é um dos poucos modelos de posse de valor.\n",
    "\n",
    "Funciona como um sistema de grade e coloca os valores em cada zona da grade como mais ou menos perigosos. As zonas mais próximas da área e do gol serão mais valorizadas, enquanto uma zona mais distante será menos valorizada.\n",
    "\n",
    "Mover a bola para áreas mais perigosas aumenta o xT, mostrando como os jogadores contribuem para construir um ataque, mesmo que não acabem rematando ou auxiliando diretamente. É ótimo para compreender os contribuintes ocultos para o jogo ofensivo de uma equipe.\n",
    "\n",
    "Podemos usar xT para avaliar se um jogador está colocando a bola em zonas perigosas ou se normalmente está afastando a bola de zonas perigosas.\n",
    "\n",
    "A desvantagem do xT é que ele geralmente funciona apenas com dados de eventos, portanto, pode haver coisas que estão faltando em uma passagem ou mudança para uma zona diferente. Além disso, só dá valor positivo ou negativo às ações que movem a bola para fora de uma zona. Se a bola permanecer na mesma zona, terminará em zero."
   ]
  },
  {
   "cell_type": "markdown",
   "metadata": {},
   "source": [
    "### Progressive Stats\n",
    "\n",
    "Estatísticas progressivas são exatamente o que parecem no nome.\n",
    "\n",
    "Eles nos permitem monitorar quão bem os jogadores e equipes movem a bola em direção ao gol adversário. Esses passes normalmente precisam acontecer na metade do campo de ataque. Na verdade, não contaremos como progressivo um passe que vai da linha do gol até o topo da área se for de um tiro de meta.\n",
    "\n",
    "Isso inclui passes progressivos e corridas, ações que avançam significativamente o ataque.\n",
    "\n",
    "Isso nos permite medir quem são os criadores e facilitadores de uma equipe. Também podemos olhar para o outro extremo do espectro para ver quem está recebendo passes progressivos. Isso pode nos dizer quem está em boas posições e possivelmente quem está fazendo boas corridas para receber passes como bolas em profundidade.\n",
    "\n",
    "Fbref fornece estas definições simples de algumas estatísticas progressivas e como calculá-las:\n",
    "\n",
    "* Passes Progressivos:\n",
    "    Passes completos que movem a bola em direção à linha de gol do adversário a pelo menos 10 jardas de seu ponto mais distante nos últimos seis passes, ou qualquer passe completo para a área de grande penalidade. Exclui passes da defesa em 40% do campo\n",
    "\n",
    "(Recepções progressivas é só quem recebe o passe progressivo)\n",
    "\n",
    "* Carregamentos Progressivos:\n",
    "    Carregamentos que movem a bola em direção à linha de gol do adversário a pelo menos 10 jardas de seu ponto mais distante nos últimos seis passes, ou qualquer carregamento para a área de grande penalidade. Exclui carregamentos que terminam na defesa de 50% do campo\n",
    "\n",
    "https://www.stlcitysc.com/news/soccer-stats-explained-progressive-passing\n",
    "\n",
    "https://statsbomb.com/articles/soccer/the-art-of-progression-an-analysis-of-passing-vs-ball-carrying/"
   ]
  },
  {
   "cell_type": "markdown",
   "metadata": {},
   "source": [
    "### Shot & Goal Creating Actions (SCA & GCA)\n",
    "\n",
    "Ações de criação de chute, ou SCA, registram todas as jogadas que levam diretamente a um chute, como dribles, passes ou até mesmo faltas. É uma medida ampla de como os jogadores contribuem para o ataque.\n",
    "\n",
    "A FBREF define isso especificamente como as duas ações que levam a um chute. Portanto, podem ser os dois primeiros passes ou pode ser um drible e depois um passe do mesmo jogador. Até mesmo o arremessador pode receber crédito por um SCA se driblar e depois chutar.\n",
    "\n",
    "Números altos de SCA apontam para jogadores que estão consistentemente envolvidos na preparação de chutes, indicando que eles são os principais criadores de jogo. É uma forma de valorizar quem faz o trabalho de base para oportunidades de gol.\n",
    "\n",
    "Uma ação de criação de gols é essencialmente a mesma coisa que ações de criação de chutes, mas apenas os chutes que levam a gols. Na minha opinião, considere este com muito leveza porque a métrica depende da capacidade do atirador de finalizar o chute que é criado."
   ]
  },
  {
   "cell_type": "markdown",
   "metadata": {},
   "source": [
    "### Key Passes\n",
    "\n",
    "Um passe chave é o passe final antes de um companheiro de equipe dar um chute. Ao contrário das assistências, que só contam se o chute marcar, os passes importantes valorizam a própria jogada de preparação.\n",
    "\n",
    "É um indicador claro da visão e criatividade de um jogador, mostrando quem está fazendo as chances acontecerem, independentemente da finalização. Números altos aqui significam que um jogador é uma figura central na criação de oportunidades para sua equipe.\n",
    "\n",
    "Opta os define especificamente como os passes que levam a um chute sem gol, enquanto uma assistência é aquela que leva a um gol."
   ]
  },
  {
   "cell_type": "markdown",
   "metadata": {},
   "source": [
    "### Post-Shot Expected Goals (PSxG)\n",
    "\n",
    " Gols esperados após o chute, ou PSxG, acrescenta uma reviravolta ao xG ao considerar onde o chute termina no gol. Também é comumente referido como “xGOT” ou metas esperadas no alvo.\n",
    "\n",
    "É usado principalmente para avaliar goleiros, mostrando a probabilidade de eles defenderem um chute com base em sua trajetória e velocidade após serem atingidos. Um PSxG alto contra um goleiro sugere que eles enfrentaram chutes difíceis de defender. É uma forma sofisticada de avaliar o desempenho de um goleiro além de apenas defesas e gols sofridos.\n",
    "\n",
    "Também podemos usá-lo para avaliar a capacidade de finalização de um jogador. Se eles tiverem um PSxG maior que o xG de chutes, isso significa que conseguiram colocar a bola em uma área mais difícil para o goleiro defender.\n"
   ]
  },
  {
   "cell_type": "markdown",
   "metadata": {},
   "source": [
    "### Game State\n",
    "\n",
    "Estado do jogo refere-se ao contexto da partida em qualquer momento, com base no placar.\n",
    "\n",
    "É crucial porque as equipes se comportam de maneira diferente quando lideram, empatam ou seguem.\n",
    "\n",
    "As estatísticas ajustadas ao estado do jogo podem revelar o desempenho de uma equipe ou jogador sob diversas pressões. Isso nos ajuda a entender estratégias, como se uma equipe recua para defender uma liderança ou pressiona com mais força quando está atrás.\n",
    "\n",
    "Quando sabemos o placar e o tempo da partida, isso nos ajuda a interpretar outras estatísticas com mais precisão."
   ]
  },
  {
   "cell_type": "markdown",
   "metadata": {},
   "source": [
    "### Dribles\n",
    "\n",
    "Dribles Concluídos mede a habilidade de um jogador de passar a bola pelo adversário com sucesso.\n",
    "\n",
    "Um drible também pode ser chamado de “take on”.\n",
    "\n",
    "Muito uso dessa estatística visa ver aquisições bem-sucedidas ou malsucedidas.\n",
    "\n",
    "Um jogador com muitos dribles bem-sucedidos será aquele que consegue criar sozinho, enquanto aquele que não tem muito sucesso acabará perdendo a posse de bola."
   ]
  },
  {
   "cell_type": "markdown",
   "metadata": {},
   "source": [
    "___"
   ]
  },
  {
   "cell_type": "markdown",
   "metadata": {},
   "source": [
    "## Common Python Terms\n",
    "\n",
    "When working in Python we’ll come across some of the same terms so let’s dive into what some of those are.\n",
    "Feel free to come back to this section as I will continually update it over time.\n",
    "\n",
    "#### Variable:\n",
    "A name that refers to a value stored in memory. Variables in Python are created by simply assigning a value to a variable name, e.g., x = 5. The variable x now holds the value 5.\n",
    "\n",
    "#### Function:\n",
    "A block of organized, reusable code that performs a specific task. Functions are defined using the def keyword, followed by a function name and parentheses, e.g., def my_function():.\n",
    "\n",
    "#### List:\n",
    "An ordered collection of items. Lists are mutable, meaning their elements can be changed. They are defined with square brackets, e.g., my_list = [1, 2, 3].\n",
    "\n",
    "#### Tuple:\n",
    "Similar to a list, but immutable (its content cannot be changed). Tuples are defined by using parentheses, e.g., my_tuple = (1, 2, 3).\n",
    "\n",
    "#### Dictionary: \n",
    "An unordered collection of data in a key:value pair form. Dictionaries are written with curly brackets, including pairs separated by commas, e.g., my_dict = {'name': 'John', 'age': 30}.\n",
    "\n",
    "#### Loop:\n",
    "A way to repeat a block of code multiple times. Python has two primitive loop commands: for loops and while loops. E.g., for x in range(5): will repeat its block of code 5 times.\n",
    "\n",
    "#### Conditional Statements:\n",
    "Used to execute code if a particular condition is true. The most common conditional statements are if, elif, and else.\n",
    "\n",
    "#### Module:\n",
    "A file containing Python definitions and statements. The file name is the module name with the suffix .py added. Modules can define functions, classes, and variables, and can also include runnable code.\n",
    "\n",
    "#### Exception:\n",
    "An error that occurs during the execution of a program. Python has several built-in exceptions, such as ValueError, TypeError, and IndexError, and also allows the creation of custom exceptions through class inheritance."
   ]
  },
  {
   "cell_type": "markdown",
   "metadata": {},
   "source": [
    "___"
   ]
  },
  {
   "cell_type": "markdown",
   "metadata": {},
   "source": [
    "# Gathering Data"
   ]
  },
  {
   "cell_type": "code",
   "execution_count": 1,
   "metadata": {},
   "outputs": [
    {
     "name": "stdout",
     "output_type": "stream",
     "text": [
      "Hello world\n"
     ]
    }
   ],
   "source": [
    "print('Hello world')"
   ]
  },
  {
   "cell_type": "code",
   "execution_count": null,
   "metadata": {},
   "outputs": [],
   "source": []
  },
  {
   "cell_type": "code",
   "execution_count": null,
   "metadata": {},
   "outputs": [],
   "source": []
  }
 ],
 "metadata": {
  "kernelspec": {
   "display_name": "base",
   "language": "python",
   "name": "python3"
  },
  "language_info": {
   "codemirror_mode": {
    "name": "ipython",
    "version": 3
   },
   "file_extension": ".py",
   "mimetype": "text/x-python",
   "name": "python",
   "nbconvert_exporter": "python",
   "pygments_lexer": "ipython3",
   "version": "3.9.6"
  }
 },
 "nbformat": 4,
 "nbformat_minor": 2
}
