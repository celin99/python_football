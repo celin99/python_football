{
 "cells": [
  {
   "cell_type": "code",
   "execution_count": 50,
   "metadata": {},
   "outputs": [
    {
     "name": "stdout",
     "output_type": "stream",
     "text": [
      "Hello, World\n"
     ]
    }
   ],
   "source": [
    "print(\"Hello, World\")"
   ]
  },
  {
   "cell_type": "code",
   "execution_count": 51,
   "metadata": {},
   "outputs": [],
   "source": [
    "import re \n",
    "import requests\n",
    "\n",
    "from bs4 import BeautifulSoup"
   ]
  },
  {
   "cell_type": "code",
   "execution_count": 52,
   "metadata": {},
   "outputs": [],
   "source": [
    "url = \"https://www.transfermarkt.com.br/erling-haaland/profil/spieler/418560\"\n",
    "player_id = url.split('/')[-1]"
   ]
  },
  {
   "cell_type": "code",
   "execution_count": 53,
   "metadata": {},
   "outputs": [],
   "source": [
    "headers = {\n",
    "    \"User-Agent\": \"Mozilla/5.0 (Windows NT 10.0; Win64; x64) AppleWebKit/537.36 (KHTML, like Gecko) Chrome/121.0.0.0 Safari/537.36 OPR/107.0.0.0 (Edition std-1)\"\n",
    "}"
   ]
  },
  {
   "cell_type": "code",
   "execution_count": 54,
   "metadata": {},
   "outputs": [],
   "source": [
    "response = requests.get(url, headers=headers)"
   ]
  },
  {
   "cell_type": "code",
   "execution_count": 55,
   "metadata": {},
   "outputs": [
    {
     "data": {
      "text/plain": [
       "200"
      ]
     },
     "execution_count": 55,
     "metadata": {},
     "output_type": "execute_result"
    }
   ],
   "source": [
    "response.status_code"
   ]
  },
  {
   "cell_type": "code",
   "execution_count": 56,
   "metadata": {},
   "outputs": [],
   "source": [
    "soup = BeautifulSoup(response.content, \"html.parser\")"
   ]
  },
  {
   "cell_type": "code",
   "execution_count": 57,
   "metadata": {},
   "outputs": [],
   "source": [
    "player_name = soup.select_one('h1[class=\"data-header__headline-wrapper\"]').text.split('\\n')[-1].strip()\n"
   ]
  },
  {
   "cell_type": "code",
   "execution_count": 58,
   "metadata": {},
   "outputs": [
    {
     "data": {
      "text/plain": [
       "'Erling Haaland'"
      ]
     },
     "execution_count": 58,
     "metadata": {},
     "output_type": "execute_result"
    }
   ],
   "source": [
    "player_name"
   ]
  },
  {
   "cell_type": "code",
   "execution_count": 59,
   "metadata": {},
   "outputs": [],
   "source": [
    "player_number = soup.select_one('span[class=\"data-header__shirt-number\"]').text.replace('#', '').strip()"
   ]
  },
  {
   "cell_type": "code",
   "execution_count": 60,
   "metadata": {},
   "outputs": [
    {
     "data": {
      "text/plain": [
       "9"
      ]
     },
     "execution_count": 60,
     "metadata": {},
     "output_type": "execute_result"
    }
   ],
   "source": [
    "int(player_number)"
   ]
  },
  {
   "cell_type": "code",
   "execution_count": 61,
   "metadata": {},
   "outputs": [],
   "source": [
    "player_contract_expiry = re.search(\"Contrato até: .*__content\\\">(.*?)</span>\", str(soup)).group(1)"
   ]
  },
  {
   "cell_type": "code",
   "execution_count": 62,
   "metadata": {},
   "outputs": [
    {
     "data": {
      "text/plain": [
       "'30/06/2027'"
      ]
     },
     "execution_count": 62,
     "metadata": {},
     "output_type": "execute_result"
    }
   ],
   "source": [
    "player_contract_expiry"
   ]
  },
  {
   "cell_type": "code",
   "execution_count": 63,
   "metadata": {},
   "outputs": [
    {
     "data": {
      "text/plain": [
       "<span class=\"info-table__content info-table__content--bold\">Erling Braut Håland</span>"
      ]
     },
     "execution_count": 63,
     "metadata": {},
     "output_type": "execute_result"
    }
   ],
   "source": [
    "soup.select_one('span[class=\"info-table__content info-table__content--bold\"]')"
   ]
  },
  {
   "cell_type": "code",
   "execution_count": 64,
   "metadata": {},
   "outputs": [],
   "source": [
    "response = requests.get(\n",
    "    f'https://www.transfermarkt.com.br/ceapi/marketValueDevelopment/graph/{player_id}',\n",
    "    headers=headers,\n",
    ")"
   ]
  },
  {
   "cell_type": "code",
   "execution_count": 65,
   "metadata": {},
   "outputs": [
    {
     "data": {
      "text/plain": [
       "200"
      ]
     },
     "execution_count": 65,
     "metadata": {},
     "output_type": "execute_result"
    }
   ],
   "source": [
    "response.status_code"
   ]
  },
  {
   "cell_type": "code",
   "execution_count": 66,
   "metadata": {},
   "outputs": [
    {
     "data": {
      "text/plain": [
       "{'list': [{'x': 1482015600000,\n",
       "   'y': 200000,\n",
       "   'mw': '200 mil €',\n",
       "   'datum_mw': '18/12/2016',\n",
       "   'verein': 'Bryne FK',\n",
       "   'age': '16',\n",
       "   'wappen': 'https://tmssl.akamaized.net/images/wappen/profil/1057.png?lm=1480871779'},\n",
       "  {'x': 1513983600000,\n",
       "   'y': 300000,\n",
       "   'mw': '300 mil €',\n",
       "   'datum_mw': '23/12/2017',\n",
       "   'verein': 'Molde FK',\n",
       "   'age': '17',\n",
       "   'wappen': 'https://tmssl.akamaized.net/images/wappen/profil/687.png?lm=1409159512'},\n",
       "  {'x': 1536530400000,\n",
       "   'y': 2000000,\n",
       "   'mw': '2,00 mi. €',\n",
       "   'datum_mw': '10/09/2018',\n",
       "   'verein': 'Molde FK',\n",
       "   'age': '18',\n",
       "   'wappen': ''},\n",
       "  {'x': 1546124400000,\n",
       "   'y': 5000000,\n",
       "   'mw': '5,00 mi. €',\n",
       "   'datum_mw': '30/12/2018',\n",
       "   'verein': 'Molde FK',\n",
       "   'age': '18',\n",
       "   'wappen': ''},\n",
       "  {'x': 1559512800000,\n",
       "   'y': 5000000,\n",
       "   'mw': '5,00 mi. €',\n",
       "   'datum_mw': '03/06/2019',\n",
       "   'verein': 'Red Bull Salzburg',\n",
       "   'age': '18',\n",
       "   'wappen': 'https://tmssl.akamaized.net/images/wappen/profil/409_1557781653.png?lm=1557781653'},\n",
       "  {'x': 1567461600000,\n",
       "   'y': 12000000,\n",
       "   'mw': '12,00 mi. €',\n",
       "   'datum_mw': '03/09/2019',\n",
       "   'verein': 'Red Bull Salzburg',\n",
       "   'age': '19',\n",
       "   'wappen': ''},\n",
       "  {'x': 1573081200000,\n",
       "   'y': 30000000,\n",
       "   'mw': '30,00 mi. €',\n",
       "   'datum_mw': '07/11/2019',\n",
       "   'verein': 'Red Bull Salzburg',\n",
       "   'age': '19',\n",
       "   'wappen': ''},\n",
       "  {'x': 1576450800000,\n",
       "   'y': 45000000,\n",
       "   'mw': '45,00 mi. €',\n",
       "   'datum_mw': '16/12/2019',\n",
       "   'verein': 'Red Bull Salzburg',\n",
       "   'age': '19',\n",
       "   'wappen': ''},\n",
       "  {'x': 1581375600000,\n",
       "   'y': 60000000,\n",
       "   'mw': '60,00 mi. €',\n",
       "   'datum_mw': '11/02/2020',\n",
       "   'verein': 'Borussia Dortmund',\n",
       "   'age': '19',\n",
       "   'wappen': 'https://tmssl.akamaized.net/images/wappen/profil/16.png?lm=1396275280'},\n",
       "  {'x': 1583881200000,\n",
       "   'y': 80000000,\n",
       "   'mw': '80,00 mi. €',\n",
       "   'datum_mw': '11/03/2020',\n",
       "   'verein': 'Borussia Dortmund',\n",
       "   'age': '19',\n",
       "   'wappen': ''},\n",
       "  {'x': 1586296800000,\n",
       "   'y': 72000000,\n",
       "   'mw': '72,00 mi. €',\n",
       "   'datum_mw': '08/04/2020',\n",
       "   'verein': 'Borussia Dortmund',\n",
       "   'age': '19',\n",
       "   'wappen': ''},\n",
       "  {'x': 1600207200000,\n",
       "   'y': 80000000,\n",
       "   'mw': '80,00 mi. €',\n",
       "   'datum_mw': '16/09/2020',\n",
       "   'verein': 'Borussia Dortmund',\n",
       "   'age': '20',\n",
       "   'wappen': ''},\n",
       "  {'x': 1606345200000,\n",
       "   'y': 100000000,\n",
       "   'mw': '100,00 mi. €',\n",
       "   'datum_mw': '26/11/2020',\n",
       "   'verein': 'Borussia Dortmund',\n",
       "   'age': '20',\n",
       "   'wappen': ''},\n",
       "  {'x': 1612911600000,\n",
       "   'y': 110000000,\n",
       "   'mw': '110,00 mi. €',\n",
       "   'datum_mw': '10/02/2021',\n",
       "   'verein': 'Borussia Dortmund',\n",
       "   'age': '20',\n",
       "   'wappen': ''},\n",
       "  {'x': 1623189600000,\n",
       "   'y': 130000000,\n",
       "   'mw': '130,00 mi. €',\n",
       "   'datum_mw': '09/06/2021',\n",
       "   'verein': 'Borussia Dortmund',\n",
       "   'age': '20',\n",
       "   'wappen': ''},\n",
       "  {'x': 1633557600000,\n",
       "   'y': 150000000,\n",
       "   'mw': '150,00 mi. €',\n",
       "   'datum_mw': '07/10/2021',\n",
       "   'verein': 'Borussia Dortmund',\n",
       "   'age': '21',\n",
       "   'wappen': ''},\n",
       "  {'x': 1640127600000,\n",
       "   'y': 150000000,\n",
       "   'mw': '150,00 mi. €',\n",
       "   'datum_mw': '22/12/2021',\n",
       "   'verein': 'Borussia Dortmund',\n",
       "   'age': '21',\n",
       "   'wappen': ''},\n",
       "  {'x': 1654725600000,\n",
       "   'y': 150000000,\n",
       "   'mw': '150,00 mi. €',\n",
       "   'datum_mw': '09/06/2022',\n",
       "   'verein': 'Borussia Dortmund',\n",
       "   'age': '21',\n",
       "   'wappen': ''},\n",
       "  {'x': 1667430000000,\n",
       "   'y': 170000000,\n",
       "   'mw': '170,00 mi. €',\n",
       "   'datum_mw': '03/11/2022',\n",
       "   'verein': 'Manchester City FC',\n",
       "   'age': '22',\n",
       "   'wappen': 'https://tmssl.akamaized.net/images/wappen/profil/281.png?lm=1467356331'},\n",
       "  {'x': 1687212000000,\n",
       "   'y': 180000000,\n",
       "   'mw': '180,00 mi. €',\n",
       "   'datum_mw': '20/06/2023',\n",
       "   'verein': 'Manchester City FC',\n",
       "   'age': '22',\n",
       "   'wappen': ''},\n",
       "  {'x': 1702940400000,\n",
       "   'y': 180000000,\n",
       "   'mw': '180,00 mi. €',\n",
       "   'datum_mw': '19/12/2023',\n",
       "   'verein': 'Manchester City FC',\n",
       "   'age': '23',\n",
       "   'wappen': 'https://tmssl.akamaized.net/images/wappen/profil/281.png?lm=1467356331'}],\n",
       " 'current': '180,00 mi. €',\n",
       " 'highest': '180,00 mi. €',\n",
       " 'highest_date': '20/06/2023',\n",
       " 'last_change': '19/12/2023',\n",
       " 'details_url': '/erling-haaland/marktwertverlauf/spieler/418560',\n",
       " 'thread': {'url': '', 'thread_title': '', 'count_replies': ''},\n",
       " 'translations': {'market value': 'Valor de mercado',\n",
       "  'team': 'Clube',\n",
       "  'age': 'Idade',\n",
       "  'resetZoom': 'Vollansicht',\n",
       "  'current': 'Valor de mercado atual',\n",
       "  'highest': 'VDM mais alto',\n",
       "  'thread': 'Dar opinião sobre o valor de mercado',\n",
       "  'forum': 'Fórum',\n",
       "  'details': 'Evolução do valor de mercado e tabelas',\n",
       "  'headline': 'Desenvolvimento do valor de mercado',\n",
       "  'lastChange': 'Última alteração'}}"
      ]
     },
     "execution_count": 66,
     "metadata": {},
     "output_type": "execute_result"
    }
   ],
   "source": [
    "response.json()"
   ]
  },
  {
   "cell_type": "code",
   "execution_count": 67,
   "metadata": {},
   "outputs": [
    {
     "data": {
      "text/plain": [
       "dict_keys(['list', 'current', 'highest', 'highest_date', 'last_change', 'details_url', 'thread', 'translations'])"
      ]
     },
     "execution_count": 67,
     "metadata": {},
     "output_type": "execute_result"
    }
   ],
   "source": [
    "response.json().keys()"
   ]
  },
  {
   "cell_type": "code",
   "execution_count": 68,
   "metadata": {},
   "outputs": [],
   "source": [
    "response_next = requests.get(\n",
    "    f'https://www.transfermarkt.com.br/ceapi/nextMatches/player/{player_id}',\n",
    "    headers=headers)"
   ]
  },
  {
   "cell_type": "code",
   "execution_count": 69,
   "metadata": {},
   "outputs": [
    {
     "data": {
      "text/plain": [
       "{'teams': {'281': {'name': 'Manchester City',\n",
       "   'link': '/manchester-city/startseite/verein/281',\n",
       "   'image1x': 'https://tmssl.akamaized.net/images/wappen/homepageWappen70x70/281.png?lm=1467356331',\n",
       "   'image2x': 'https://tmssl.akamaized.net/images/wappen/homepageWappen150x150/281.png?lm=1467356331',\n",
       "   'isNT': False},\n",
       "  '405': {'name': 'Aston Villa',\n",
       "   'link': '/aston-villa/startseite/verein/405',\n",
       "   'image1x': 'https://tmssl.akamaized.net/images/wappen/homepageWappen70x70/405.png?lm=1469443765',\n",
       "   'image2x': 'https://tmssl.akamaized.net/images/wappen/homepageWappen150x150/405.png?lm=1469443765',\n",
       "   'isNT': False},\n",
       "  '873': {'name': 'Crystal Palace',\n",
       "   'link': '/crystal-palace/startseite/verein/873',\n",
       "   'image1x': 'https://tmssl.akamaized.net/images/wappen/homepageWappen70x70/873.png?lm=1457723287',\n",
       "   'image2x': 'https://tmssl.akamaized.net/images/wappen/homepageWappen150x150/873.png?lm=1457723287',\n",
       "   'isNT': False},\n",
       "  '418': {'name': 'Real Madrid',\n",
       "   'link': '/real-madrid/startseite/verein/418',\n",
       "   'image1x': 'https://tmssl.akamaized.net/images/wappen/homepageWappen70x70/418.png?lm=1697726166',\n",
       "   'image2x': 'https://tmssl.akamaized.net/images/wappen/homepageWappen150x150/418.png?lm=1697726166',\n",
       "   'isNT': False},\n",
       "  '1031': {'name': 'Luton',\n",
       "   'link': '/luton-town/startseite/verein/1031',\n",
       "   'image1x': 'https://tmssl.akamaized.net/images/wappen/homepageWappen70x70/1031.png?lm=1457723228',\n",
       "   'image2x': 'https://tmssl.akamaized.net/images/wappen/homepageWappen150x150/1031.png?lm=1457723228',\n",
       "   'isNT': False},\n",
       "  '148': {'name': 'Tottenham',\n",
       "   'link': '/tottenham-hotspur/startseite/verein/148',\n",
       "   'image1x': 'https://tmssl.akamaized.net/images/wappen/homepageWappen70x70/148.png?lm=1544345801',\n",
       "   'image2x': 'https://tmssl.akamaized.net/images/wappen/homepageWappen150x150/148.png?lm=1544345801',\n",
       "   'isNT': False},\n",
       "  '631': {'name': 'Chelsea',\n",
       "   'link': '/fc-chelsea/startseite/verein/631',\n",
       "   'image1x': 'https://tmssl.akamaized.net/images/wappen/homepageWappen70x70/631.png?lm=1682435911',\n",
       "   'image2x': 'https://tmssl.akamaized.net/images/wappen/homepageWappen150x150/631.png?lm=1682435911',\n",
       "   'isNT': False},\n",
       "  '1237': {'name': 'Brighton',\n",
       "   'link': '/brighton-amp-hove-albion/startseite/verein/1237',\n",
       "   'image1x': 'https://tmssl.akamaized.net/images/wappen/homepageWappen70x70/1237.png?lm=1492718902',\n",
       "   'image2x': 'https://tmssl.akamaized.net/images/wappen/homepageWappen150x150/1237.png?lm=1492718902',\n",
       "   'isNT': False},\n",
       "  '703': {'name': 'Nottm Forest',\n",
       "   'link': '/nottingham-forest/startseite/verein/703',\n",
       "   'image1x': 'https://tmssl.akamaized.net/images/wappen/homepageWappen70x70/703.png?lm=1598890289',\n",
       "   'image2x': 'https://tmssl.akamaized.net/images/wappen/homepageWappen150x150/703.png?lm=1598890289',\n",
       "   'isNT': False},\n",
       "  '543': {'name': 'Wolves',\n",
       "   'link': '/wolverhampton-wanderers/startseite/verein/543',\n",
       "   'image1x': 'https://tmssl.akamaized.net/images/wappen/homepageWappen70x70/543.png?lm=1467496784',\n",
       "   'image2x': 'https://tmssl.akamaized.net/images/wappen/homepageWappen150x150/543.png?lm=1467496784',\n",
       "   'isNT': False},\n",
       "  '931': {'name': 'FC Fulham',\n",
       "   'link': '/fc-fulham/startseite/verein/931',\n",
       "   'image1x': 'https://tmssl.akamaized.net/images/wappen/homepageWappen70x70/931.png?lm=1556831687',\n",
       "   'image2x': 'https://tmssl.akamaized.net/images/wappen/homepageWappen150x150/931.png?lm=1556831687',\n",
       "   'isNT': False},\n",
       "  '379': {'name': 'West Ham ',\n",
       "   'link': '/west-ham-united/startseite/verein/379',\n",
       "   'image1x': 'https://tmssl.akamaized.net/images/wappen/homepageWappen70x70/379.png?lm=1464675260',\n",
       "   'image2x': 'https://tmssl.akamaized.net/images/wappen/homepageWappen150x150/379.png?lm=1464675260',\n",
       "   'isNT': False},\n",
       "  '9110': {'name': 'Cazaquistão',\n",
       "   'link': '/kasachstan/startseite/verein/9110',\n",
       "   'image1x': 'https://tmssl.akamaized.net/images/flagge/homepageWappen70x70/81.png?lm=1520611569',\n",
       "   'image2x': 'https://tmssl.akamaized.net/images/wappen/homepageWappen150x150/9110.png?lm=1630582832',\n",
       "   'isNT': True},\n",
       "  '3440': {'name': 'Noruega',\n",
       "   'link': '/norwegen/startseite/verein/3440',\n",
       "   'image1x': 'https://tmssl.akamaized.net/images/flagge/homepageWappen70x70/125.png?lm=1520611569',\n",
       "   'image2x': 'https://tmssl.akamaized.net/images/wappen/homepageWappen150x150/3440.png?lm=1419583165',\n",
       "   'isNT': True},\n",
       "  '3383': {'name': 'Áustria',\n",
       "   'link': '/osterreich/startseite/verein/3383',\n",
       "   'image1x': 'https://tmssl.akamaized.net/images/flagge/homepageWappen70x70/127.png?lm=1520611569',\n",
       "   'image2x': 'https://tmssl.akamaized.net/images/wappen/homepageWappen150x150/3383.png?lm=1669902198',\n",
       "   'isNT': True},\n",
       "  '3588': {'name': 'Eslovênia',\n",
       "   'link': '/slowenien/startseite/verein/3588',\n",
       "   'image1x': 'https://tmssl.akamaized.net/images/flagge/homepageWappen70x70/155.png?lm=1520611569',\n",
       "   'image2x': 'https://tmssl.akamaized.net/images/wappen/homepageWappen150x150/3588.png?lm=1623428575',\n",
       "   'isNT': True}},\n",
       " 'matches': [{'competition': {'id': 'GB1',\n",
       "    'label': 'Premier League',\n",
       "    'link': 'https://www.transfermarkt.com.br/premier-league/startseite/wettbewerb/GB1'},\n",
       "   'id': 4095389,\n",
       "   'match': {'away': 405,\n",
       "    'day': '31',\n",
       "    'dayLink': '/wettbewerb/spieltag/wettbewerb/GB1/saison_id/2023/spieltag/31',\n",
       "    'injury': None,\n",
       "    'group': None,\n",
       "    'home': 281,\n",
       "    'link': '/spielbericht/index/spielbericht/4095389',\n",
       "    'result': '-:-',\n",
       "    'state': 'Fixture',\n",
       "    'suspension': None,\n",
       "    'time': 1712171700},\n",
       "   'integrations': []},\n",
       "  {'competition': {'id': 'GB1',\n",
       "    'label': 'Premier League',\n",
       "    'link': 'https://www.transfermarkt.com.br/premier-league/startseite/wettbewerb/GB1'},\n",
       "   'id': 4095392,\n",
       "   'match': {'away': 281,\n",
       "    'day': '32',\n",
       "    'dayLink': '/wettbewerb/spieltag/wettbewerb/GB1/saison_id/2023/spieltag/32',\n",
       "    'injury': None,\n",
       "    'group': None,\n",
       "    'home': 873,\n",
       "    'link': '/spielbericht/index/spielbericht/4095392',\n",
       "    'result': '-:-',\n",
       "    'state': 'Fixture',\n",
       "    'suspension': None,\n",
       "    'time': 1712403000},\n",
       "   'integrations': []},\n",
       "  {'competition': {'id': 'CL',\n",
       "    'label': 'Liga dos Campeões',\n",
       "    'link': 'https://www.transfermarkt.com.br/uefa-champions-league/startseite/pokalwettbewerb/CL'},\n",
       "   'id': 4312023,\n",
       "   'match': {'away': 281,\n",
       "    'day': '9',\n",
       "    'dayLink': '/wettbewerb/spieltag/pokalwettbewerb/CL/saison_id/2023/spieltag/9/gruppe/VFH',\n",
       "    'injury': None,\n",
       "    'group': 'Quartas de final - Jogos de ida',\n",
       "    'home': 418,\n",
       "    'link': '/spielbericht/index/spielbericht/4312023',\n",
       "    'result': '-:-',\n",
       "    'state': 'Fixture',\n",
       "    'suspension': None,\n",
       "    'time': 1712689200},\n",
       "   'integrations': []},\n",
       "  {'competition': {'id': 'GB1',\n",
       "    'label': 'Premier League',\n",
       "    'link': 'https://www.transfermarkt.com.br/premier-league/startseite/wettbewerb/GB1'},\n",
       "   'id': 4095406,\n",
       "   'match': {'away': 1031,\n",
       "    'day': '33',\n",
       "    'dayLink': '/wettbewerb/spieltag/wettbewerb/GB1/saison_id/2023/spieltag/33',\n",
       "    'injury': None,\n",
       "    'group': None,\n",
       "    'home': 281,\n",
       "    'link': '/spielbericht/index/spielbericht/4095406',\n",
       "    'result': '-:-',\n",
       "    'state': 'Fixture',\n",
       "    'suspension': None,\n",
       "    'time': 1713016800},\n",
       "   'integrations': []},\n",
       "  {'competition': {'id': 'CL',\n",
       "    'label': 'Liga dos Campeões',\n",
       "    'link': 'https://www.transfermarkt.com.br/uefa-champions-league/startseite/pokalwettbewerb/CL'},\n",
       "   'id': 4312027,\n",
       "   'match': {'away': 418,\n",
       "    'day': '10',\n",
       "    'dayLink': '/wettbewerb/spieltag/pokalwettbewerb/CL/saison_id/2023/spieltag/10/gruppe/VFR',\n",
       "    'injury': None,\n",
       "    'group': 'quartas de final - Jogos de volta',\n",
       "    'home': 281,\n",
       "    'link': '/spielbericht/index/spielbericht/4312027',\n",
       "    'result': '-:-',\n",
       "    'state': 'Fixture',\n",
       "    'suspension': None,\n",
       "    'time': 1713380400},\n",
       "   'integrations': []},\n",
       "  {'competition': {'id': 'GB1',\n",
       "    'label': 'Premier League',\n",
       "    'link': 'https://www.transfermarkt.com.br/premier-league/startseite/wettbewerb/GB1'},\n",
       "   'id': 4095418,\n",
       "   'match': {'away': 281,\n",
       "    'day': '34',\n",
       "    'dayLink': '/wettbewerb/spieltag/wettbewerb/GB1/saison_id/2023/spieltag/34',\n",
       "    'injury': None,\n",
       "    'group': None,\n",
       "    'home': 148,\n",
       "    'link': '/spielbericht/index/spielbericht/4095418',\n",
       "    'result': '-:-',\n",
       "    'state': 'Postponed',\n",
       "    'suspension': None,\n",
       "    'time': 1713621600},\n",
       "   'integrations': []},\n",
       "  {'competition': {'id': 'FAC',\n",
       "    'label': 'FA Cup',\n",
       "    'link': 'https://www.transfermarkt.com.br/fa-cup/startseite/pokalwettbewerb/FAC'},\n",
       "   'id': 4313193,\n",
       "   'match': {'away': 631,\n",
       "    'day': '11',\n",
       "    'dayLink': '/wettbewerb/spieltag/pokalwettbewerb/FAC/saison_id/2023/spieltag/11/gruppe/HF',\n",
       "    'injury': None,\n",
       "    'group': 'semi-finais',\n",
       "    'home': 281,\n",
       "    'link': '/spielbericht/index/spielbericht/4313193',\n",
       "    'result': '-:-',\n",
       "    'state': 'Fixture',\n",
       "    'suspension': None,\n",
       "    'time': 1713629700},\n",
       "   'integrations': []},\n",
       "  {'competition': {'id': 'GB1',\n",
       "    'label': 'Premier League',\n",
       "    'link': 'https://www.transfermarkt.com.br/premier-league/startseite/wettbewerb/GB1'},\n",
       "   'id': 4095361,\n",
       "   'match': {'away': 281,\n",
       "    'day': '29',\n",
       "    'dayLink': '/wettbewerb/spieltag/wettbewerb/GB1/saison_id/2023/spieltag/29',\n",
       "    'injury': None,\n",
       "    'group': None,\n",
       "    'home': 1237,\n",
       "    'link': '/spielbericht/index/spielbericht/4095361',\n",
       "    'result': '-:-',\n",
       "    'state': 'Fixture',\n",
       "    'suspension': None,\n",
       "    'time': 1714071600},\n",
       "   'integrations': []},\n",
       "  {'competition': {'id': 'GB1',\n",
       "    'label': 'Premier League',\n",
       "    'link': 'https://www.transfermarkt.com.br/premier-league/startseite/wettbewerb/GB1'},\n",
       "   'id': 4095426,\n",
       "   'match': {'away': 281,\n",
       "    'day': '35',\n",
       "    'dayLink': '/wettbewerb/spieltag/wettbewerb/GB1/saison_id/2023/spieltag/35',\n",
       "    'injury': None,\n",
       "    'group': None,\n",
       "    'home': 703,\n",
       "    'link': '/spielbericht/index/spielbericht/4095426',\n",
       "    'result': '-:-',\n",
       "    'state': 'Fixture',\n",
       "    'suspension': None,\n",
       "    'time': 1714318200},\n",
       "   'integrations': []},\n",
       "  {'competition': {'id': 'GB1',\n",
       "    'label': 'Premier League',\n",
       "    'link': 'https://www.transfermarkt.com.br/premier-league/startseite/wettbewerb/GB1'},\n",
       "   'id': 4095438,\n",
       "   'match': {'away': 543,\n",
       "    'day': '36',\n",
       "    'dayLink': '/wettbewerb/spieltag/wettbewerb/GB1/saison_id/2023/spieltag/36',\n",
       "    'injury': None,\n",
       "    'group': None,\n",
       "    'home': 281,\n",
       "    'link': '/spielbericht/index/spielbericht/4095438',\n",
       "    'result': '-:-',\n",
       "    'state': 'Fixture',\n",
       "    'suspension': None,\n",
       "    'time': 1714831200},\n",
       "   'integrations': []},\n",
       "  {'competition': {'id': 'GB1',\n",
       "    'label': 'Premier League',\n",
       "    'link': 'https://www.transfermarkt.com.br/premier-league/startseite/wettbewerb/GB1'},\n",
       "   'id': 4095444,\n",
       "   'match': {'away': 281,\n",
       "    'day': '37',\n",
       "    'dayLink': '/wettbewerb/spieltag/wettbewerb/GB1/saison_id/2023/spieltag/37',\n",
       "    'injury': None,\n",
       "    'group': None,\n",
       "    'home': 931,\n",
       "    'link': '/spielbericht/index/spielbericht/4095444',\n",
       "    'result': '-:-',\n",
       "    'state': 'Fixture',\n",
       "    'suspension': None,\n",
       "    'time': 1715436000},\n",
       "   'integrations': []},\n",
       "  {'competition': {'id': 'GB1',\n",
       "    'label': 'Premier League',\n",
       "    'link': 'https://www.transfermarkt.com.br/premier-league/startseite/wettbewerb/GB1'},\n",
       "   'id': 4095460,\n",
       "   'match': {'away': 379,\n",
       "    'day': '38',\n",
       "    'dayLink': '/wettbewerb/spieltag/wettbewerb/GB1/saison_id/2023/spieltag/38',\n",
       "    'injury': None,\n",
       "    'group': None,\n",
       "    'home': 281,\n",
       "    'link': '/spielbericht/index/spielbericht/4095460',\n",
       "    'result': '-:-',\n",
       "    'state': 'Fixture',\n",
       "    'suspension': None,\n",
       "    'time': 1716130800},\n",
       "   'integrations': []},\n",
       "  {'competition': {'id': 'UNLB',\n",
       "    'label': 'UEFA Liga das Nações B',\n",
       "    'link': 'https://www.transfermarkt.com.br/uefa-nations-league-b/startseite/pokalwettbewerb/UNLB'},\n",
       "   'id': 4284305,\n",
       "   'match': {'away': 3440,\n",
       "    'day': '1',\n",
       "    'dayLink': '/wettbewerb/spieltag/pokalwettbewerb/UNLB/saison_id/2024/spieltag/1/gruppe/3',\n",
       "    'injury': None,\n",
       "    'group': 'Grupo 3',\n",
       "    'home': 9110,\n",
       "    'link': '/spielbericht/index/spielbericht/4284305',\n",
       "    'result': '-:-',\n",
       "    'state': 'Fixture',\n",
       "    'suspension': None,\n",
       "    'time': 1725631200},\n",
       "   'integrations': []},\n",
       "  {'competition': {'id': 'UNLB',\n",
       "    'label': 'UEFA Liga das Nações B',\n",
       "    'link': 'https://www.transfermarkt.com.br/uefa-nations-league-b/startseite/pokalwettbewerb/UNLB'},\n",
       "   'id': 4284297,\n",
       "   'match': {'away': 3383,\n",
       "    'day': '2',\n",
       "    'dayLink': '/wettbewerb/spieltag/pokalwettbewerb/UNLB/saison_id/2024/spieltag/2/gruppe/3',\n",
       "    'injury': None,\n",
       "    'group': 'Grupo 3',\n",
       "    'home': 3440,\n",
       "    'link': '/spielbericht/index/spielbericht/4284297',\n",
       "    'result': '-:-',\n",
       "    'state': 'Fixture',\n",
       "    'suspension': None,\n",
       "    'time': 1725907500},\n",
       "   'integrations': []},\n",
       "  {'competition': {'id': 'UNLB',\n",
       "    'label': 'UEFA Liga das Nações B',\n",
       "    'link': 'https://www.transfermarkt.com.br/uefa-nations-league-b/startseite/pokalwettbewerb/UNLB'},\n",
       "   'id': 4284298,\n",
       "   'match': {'away': 3588,\n",
       "    'day': '3',\n",
       "    'dayLink': '/wettbewerb/spieltag/pokalwettbewerb/UNLB/saison_id/2024/spieltag/3/gruppe/3',\n",
       "    'injury': None,\n",
       "    'group': 'Grupo 3',\n",
       "    'home': 3440,\n",
       "    'link': '/spielbericht/index/spielbericht/4284298',\n",
       "    'result': '-:-',\n",
       "    'state': 'Fixture',\n",
       "    'suspension': None,\n",
       "    'time': 1728585900},\n",
       "   'integrations': []},\n",
       "  {'competition': {'id': 'UNLB',\n",
       "    'label': 'UEFA Liga das Nações B',\n",
       "    'link': 'https://www.transfermarkt.com.br/uefa-nations-league-b/startseite/pokalwettbewerb/UNLB'},\n",
       "   'id': 4284294,\n",
       "   'match': {'away': 3440,\n",
       "    'day': '4',\n",
       "    'dayLink': '/wettbewerb/spieltag/pokalwettbewerb/UNLB/saison_id/2024/spieltag/4/gruppe/3',\n",
       "    'injury': None,\n",
       "    'group': 'Grupo 3',\n",
       "    'home': 3383,\n",
       "    'link': '/spielbericht/index/spielbericht/4284294',\n",
       "    'result': '-:-',\n",
       "    'state': 'Fixture',\n",
       "    'suspension': None,\n",
       "    'time': 1728845100},\n",
       "   'integrations': []},\n",
       "  {'competition': {'id': 'UNLB',\n",
       "    'label': 'UEFA Liga das Nações B',\n",
       "    'link': 'https://www.transfermarkt.com.br/uefa-nations-league-b/startseite/pokalwettbewerb/UNLB'},\n",
       "   'id': 4284301,\n",
       "   'match': {'away': 3440,\n",
       "    'day': '5',\n",
       "    'dayLink': '/wettbewerb/spieltag/pokalwettbewerb/UNLB/saison_id/2024/spieltag/5/gruppe/3',\n",
       "    'injury': None,\n",
       "    'group': 'Grupo 3',\n",
       "    'home': 3588,\n",
       "    'link': '/spielbericht/index/spielbericht/4284301',\n",
       "    'result': '-:-',\n",
       "    'state': 'Fixture',\n",
       "    'suspension': None,\n",
       "    'time': 1731613500},\n",
       "   'integrations': []},\n",
       "  {'competition': {'id': 'UNLB',\n",
       "    'label': 'UEFA Liga das Nações B',\n",
       "    'link': 'https://www.transfermarkt.com.br/uefa-nations-league-b/startseite/pokalwettbewerb/UNLB'},\n",
       "   'id': 4284299,\n",
       "   'match': {'away': 9110,\n",
       "    'day': '6',\n",
       "    'dayLink': '/wettbewerb/spieltag/pokalwettbewerb/UNLB/saison_id/2024/spieltag/6/gruppe/3',\n",
       "    'injury': None,\n",
       "    'group': 'Grupo 3',\n",
       "    'home': 3440,\n",
       "    'link': '/spielbericht/index/spielbericht/4284299',\n",
       "    'result': '-:-',\n",
       "    'state': 'Fixture',\n",
       "    'suspension': None,\n",
       "    'time': 1731862800},\n",
       "   'integrations': []}]}"
      ]
     },
     "execution_count": 69,
     "metadata": {},
     "output_type": "execute_result"
    }
   ],
   "source": [
    "response_next.json()"
   ]
  },
  {
   "cell_type": "code",
   "execution_count": 70,
   "metadata": {},
   "outputs": [
    {
     "data": {
      "text/plain": [
       "dict_keys(['teams', 'matches'])"
      ]
     },
     "execution_count": 70,
     "metadata": {},
     "output_type": "execute_result"
    }
   ],
   "source": [
    "response_next.json().keys()"
   ]
  },
  {
   "cell_type": "code",
   "execution_count": 71,
   "metadata": {},
   "outputs": [],
   "source": [
    "response_rumors = requests.get(\n",
    "    f'https://www.transfermarkt.com.br/ceapi/currentRumors/player/{player_id}', \n",
    "    headers=headers)"
   ]
  },
  {
   "cell_type": "code",
   "execution_count": 72,
   "metadata": {},
   "outputs": [
    {
     "data": {
      "text/plain": [
       "200"
      ]
     },
     "execution_count": 72,
     "metadata": {},
     "output_type": "execute_result"
    }
   ],
   "source": [
    "response_rumors.status_code"
   ]
  },
  {
   "cell_type": "code",
   "execution_count": 74,
   "metadata": {},
   "outputs": [
    {
     "data": {
      "text/plain": [
       "{'rumors': [],\n",
       " 'translations': {'interesting': 'Interessados',\n",
       "  'probabilityOfSwitching': 'Probabilidade de transferência',\n",
       "  'headline': 'Rumores atuais '}}"
      ]
     },
     "execution_count": 74,
     "metadata": {},
     "output_type": "execute_result"
    }
   ],
   "source": [
    "response_rumors.json()"
   ]
  },
  {
   "cell_type": "code",
   "execution_count": 75,
   "metadata": {},
   "outputs": [
    {
     "data": {
      "text/plain": [
       "dict_keys(['rumors', 'translations'])"
      ]
     },
     "execution_count": 75,
     "metadata": {},
     "output_type": "execute_result"
    }
   ],
   "source": [
    "response_rumors.json().keys()"
   ]
  },
  {
   "cell_type": "code",
   "execution_count": 76,
   "metadata": {},
   "outputs": [],
   "source": [
    "response_news = requests.get(\n",
    "    f'https://www.transfermarkt.com.br/ceapi/RelevantNews/player/{player_id}', \n",
    "    headers=headers)"
   ]
  },
  {
   "cell_type": "code",
   "execution_count": 77,
   "metadata": {},
   "outputs": [
    {
     "data": {
      "text/plain": [
       "200"
      ]
     },
     "execution_count": 77,
     "metadata": {},
     "output_type": "execute_result"
    }
   ],
   "source": [
    "response_news.status_code"
   ]
  },
  {
   "cell_type": "code",
   "execution_count": 78,
   "metadata": {},
   "outputs": [
    {
     "data": {
      "text/plain": [
       "{'translations': {'widgetTitle': 'Notícias relevantes',\n",
       "  'news_archive': 'Zum Newsarchiv',\n",
       "  'doneDeal': 'Fechado',\n",
       "  'ad': 'Anzeige'},\n",
       " 'list': [{'news_id': '435409',\n",
       "   'headline': 'Seleção Brasileira tem quarto elenco mais valioso do futebol mundial; veja lista',\n",
       "   'dachzeile': 'SELEÇÕES MAIS VALIOSAS DO MUNDO',\n",
       "   'foto': '',\n",
       "   'minifoto': '',\n",
       "   'n_foto': '',\n",
       "   'n_minifoto': '',\n",
       "   'datum': '2024-03-26 00:22:55',\n",
       "   'update_flag': '0',\n",
       "   'ad_flag': '0',\n",
       "   'ticker_flag': '0',\n",
       "   'url': '/selecao-brasileira-tem-quarto-elenco-mais-valioso-do-futebol-mundial-veja-lista/view/news/435409',\n",
       "   'photo': {'src': 'https://img.a.transfermarkt.technology/portrait/medium/371998-1664869583.jpg?lm=1',\n",
       "    'title': 'Vinicius Junior - Fonte: IMAGO'}},\n",
       "  {'news_id': '435179',\n",
       "   'headline': 'Beraldo sobe e Marquinhos cai; atualização dos valores de mercado da Ligue 1',\n",
       "   'dachzeile': 'ATUALIZAÇÃO DOS VALORES DE MERCADO',\n",
       "   'foto': '',\n",
       "   'minifoto': '',\n",
       "   'n_foto': '',\n",
       "   'n_minifoto': '',\n",
       "   'datum': '2024-03-19 14:58:46',\n",
       "   'update_flag': '1',\n",
       "   'ad_flag': '0',\n",
       "   'ticker_flag': '0',\n",
       "   'url': '/beraldo-sobe-e-marquinhos-cai-atualizacao-dos-valores-de-mercado-da-ligue-1/view/news/435179',\n",
       "   'photo': {'src': 'https://img.a.transfermarkt.technology/portrait/medium/872171-1682525148.jpg?lm=1',\n",
       "    'title': 'Lucas Beraldo - Fonte: IMAGO'}}],\n",
       " 'news_archive_url': '/erling-haaland/news/spieler/418560'}"
      ]
     },
     "execution_count": 78,
     "metadata": {},
     "output_type": "execute_result"
    }
   ],
   "source": [
    "response_news.json()"
   ]
  },
  {
   "cell_type": "markdown",
   "metadata": {},
   "source": []
  },
  {
   "cell_type": "code",
   "execution_count": null,
   "metadata": {},
   "outputs": [],
   "source": []
  }
 ],
 "metadata": {
  "kernelspec": {
   "display_name": "base",
   "language": "python",
   "name": "python3"
  },
  "language_info": {
   "codemirror_mode": {
    "name": "ipython",
    "version": 3
   },
   "file_extension": ".py",
   "mimetype": "text/x-python",
   "name": "python",
   "nbconvert_exporter": "python",
   "pygments_lexer": "ipython3",
   "version": "3.11.7"
  }
 },
 "nbformat": 4,
 "nbformat_minor": 2
}
